{
  "nbformat": 4,
  "nbformat_minor": 0,
  "metadata": {
    "colab": {
      "name": "cv_example",
      "provenance": []
    },
    "kernelspec": {
      "name": "python3",
      "display_name": "Python 3"
    },
    "language_info": {
      "name": "python"
    }
  },
  "cells": [
    {
      "cell_type": "code",
      "execution_count": 1,
      "metadata": {
        "id": "uG5MN6y9NnlK"
      },
      "outputs": [],
      "source": [
        "from cv import Ankit"
      ]
    },
    {
      "cell_type": "code",
      "source": [
        "ankit = Ankit()\n",
        "print(ankit.name)\n",
        "print(ankit.age)\n",
        "print(ankit.gender)\n",
        "print(ankit.phone_number)\n",
        "print(ankit.email)"
      ],
      "metadata": {
        "colab": {
          "base_uri": "https://localhost:8080/"
        },
        "id": "MzBS8q_IN4bG",
        "outputId": "1f8ff7d7-0714-41d7-f702-65699ddb43e5"
      },
      "execution_count": 2,
      "outputs": [
        {
          "output_type": "stream",
          "name": "stdout",
          "text": [
            "Ankit Kapoor\n",
            "22\n",
            "Male\n",
            "543030659\n",
            "ankitkapoor0406.ak@gmai.com\n"
          ]
        }
      ]
    },
    {
      "cell_type": "code",
      "source": [
        "print(Ankit.education(\"BITS Pilani, Dubai\") + \"\\n\")\n",
        "print(Ankit.education(\"Hislop College\") + \"\\n\")\n",
        "print(Ankit.education(\"Bhavans BP Vidya Mandir\"))"
      ],
      "metadata": {
        "colab": {
          "base_uri": "https://localhost:8080/"
        },
        "id": "YwdelCJsOMUR",
        "outputId": "92a44728-832a-45f1-abcf-6e583d0e7b2d"
      },
      "execution_count": 5,
      "outputs": [
        {
          "output_type": "stream",
          "name": "stdout",
          "text": [
            "School Name: BITS Pilani, Dubai\n",
            "Course: B.E.\n",
            "Specialization: Computer Science\n",
            "Board: N/A\n",
            "Score: 7.46\n",
            "Year: 2018 - 2020\n",
            "\n",
            "School Name: Hislop College\n",
            "Course: Class XII\n",
            "Specialization: PCM\n",
            "Board: Maharashta State\n",
            "Score: 78%\n",
            "Year: 2018\n",
            "\n",
            "School Name: Bhavans BP Vidya Mandir\n",
            "Course: Class X\n",
            "Specialization: N/A\n",
            "Board: CBSE\n",
            "Score: 96%\n",
            "Year: 2016\n"
          ]
        }
      ]
    },
    {
      "cell_type": "code",
      "source": [
        "print(Ankit.work_experience(\"SustVest\") + \"\\n\")\n",
        "print(Ankit.work_experience(\"Ascent Business Solutions\") + \"\\n\")\n",
        "print(Ankit.work_experience(\"Infinite Space\"))"
      ],
      "metadata": {
        "colab": {
          "base_uri": "https://localhost:8080/"
        },
        "id": "ImTxarpqOv0v",
        "outputId": "65a6bba6-ad5b-4c34-b2a4-923a1a132878"
      },
      "execution_count": 6,
      "outputs": [
        {
          "output_type": "stream",
          "name": "stdout",
          "text": [
            "Company Name: SustVest\n",
            "Position: Front End Development Intern\n",
            "Location: Dubai, UAE\n",
            "Date: June 2021 - August 2021\n",
            "\n",
            "Company Name: Ascent Business Solutions\n",
            "Position: Front End Development Intern\n",
            "Location: Nagpur, India\n",
            "Date: July 2018\n",
            "\n",
            "Company Name: Infinite Space\n",
            "Position: Content Management Intern\n",
            "Location: Nagpur, India\n",
            "Date: July 2018\n"
          ]
        }
      ]
    },
    {
      "cell_type": "code",
      "source": [
        "print(Ankit.project())"
      ],
      "metadata": {
        "colab": {
          "base_uri": "https://localhost:8080/"
        },
        "id": "WWZFhX3xPIwW",
        "outputId": "69f35165-0a6d-4481-99b0-fed7a58046cb"
      },
      "execution_count": 7,
      "outputs": [
        {
          "output_type": "stream",
          "name": "stdout",
          "text": [
            "MedBot using GPT-2 (Sem VII)\n",
            "Smart Chatbot in Python (Self, 2021)\n",
            "Smart Discord Bot (Self, 2021)\n",
            "NLG Bot in python (Self, 2022)\n",
            "Heart Disease Prediction (Sem VII)\n",
            "Movie Recommender System (Sem VII)\n",
            "BigF Compiler (Sem VI)\n",
            "Wordle Solver (Self, 2022)Collatz Conjecture (Self, 2021)\n"
          ]
        }
      ]
    },
    {
      "cell_type": "code",
      "source": [
        "help(Ankit.extra)"
      ],
      "metadata": {
        "colab": {
          "base_uri": "https://localhost:8080/"
        },
        "id": "nYjwKJuaPOiO",
        "outputId": "e85b6e56-ad21-4037-ac9c-2c91deeca500"
      },
      "execution_count": 8,
      "outputs": [
        {
          "output_type": "stream",
          "name": "stdout",
          "text": [
            "Help on function extra in module cv:\n",
            "\n",
            "extra()\n",
            "    •     Written and published a fiction novel named “The Book of Destiny”, published by Notion Press Chennai in 2015\n",
            "    •     Taught rural and underprivileged children in a village near the district Tons with INME in 2017\n",
            "    •     Participated in Google Hashcode, 2019\n",
            "    •     Completed a course on Philosophy on Coursera\n",
            "    •     Wrote for Perspectives, the BPDC magazine in 2018\n",
            "    •     Completed online courses for ML & AI, and English creative writing from MyCaptain in 2017\n",
            "    •     Volunteered with Rotary Club of Nagpur North to distribute supplies and helped create makeshift\n",
            "    •     tarpaulin ceilings for slums during monsoon\n",
            "    •     Member of Quizzards, the BPDC quiz group (2018-present)\n",
            "\n"
          ]
        }
      ]
    }
  ]
}